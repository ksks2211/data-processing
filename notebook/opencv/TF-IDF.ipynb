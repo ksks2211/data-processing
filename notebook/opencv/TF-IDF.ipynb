{
 "cells": [
  {
   "cell_type": "code",
   "execution_count": 1,
   "id": "78b4feb3",
   "metadata": {},
   "outputs": [],
   "source": [
    "from sklearn.feature_extraction.text import TfidfVectorizer\n",
    "from sklearn.metrics.pairwise import cosine_similarity\n",
    "import numpy as np"
   ]
  },
  {
   "cell_type": "code",
   "execution_count": 2,
   "id": "f43ef393",
   "metadata": {},
   "outputs": [],
   "source": [
    "# Define a small corpus of documents\n",
    "documents = [\n",
    "    \"the sky is blue\",\n",
    "    \"the sun is bright\",\n",
    "    \"the sun in the sky is bright\",\n",
    "    \"we can see the shining sun, the bright sun\"\n",
    "]\n"
   ]
  },
  {
   "cell_type": "code",
   "execution_count": 3,
   "id": "85279257-7d56-4e7c-a9fc-888e2a401920",
   "metadata": {},
   "outputs": [],
   "source": [
    "tfidf_vectorizer = TfidfVectorizer(stop_words='english')"
   ]
  },
  {
   "cell_type": "code",
   "execution_count": 4,
   "id": "4b06f0e2-4c66-459f-953f-a996b2beacfd",
   "metadata": {},
   "outputs": [],
   "source": [
    "tfidf_matrix = tfidf_vectorizer.fit_transform(documents)"
   ]
  },
  {
   "cell_type": "code",
   "execution_count": 5,
   "id": "985a159a-95ff-447c-8b55-2ce2782c9c76",
   "metadata": {},
   "outputs": [
    {
     "data": {
      "text/plain": [
       "(4, 5)"
      ]
     },
     "execution_count": 5,
     "metadata": {},
     "output_type": "execute_result"
    }
   ],
   "source": [
    "tfidf_matrix.shape"
   ]
  },
  {
   "cell_type": "code",
   "execution_count": 6,
   "id": "559b42a8-ab9c-4e8b-bec1-45583fedb9b8",
   "metadata": {},
   "outputs": [],
   "source": [
    "cosine_similarities = cosine_similarity(tfidf_matrix[0:1], tfidf_matrix)"
   ]
  },
  {
   "cell_type": "code",
   "execution_count": 7,
   "id": "fd9dd29e-d84d-4e77-bfe7-80141c3e3cea",
   "metadata": {},
   "outputs": [
    {
     "data": {
      "text/plain": [
       "array([[1.        , 0.        , 0.40728206, 0.        ]])"
      ]
     },
     "execution_count": 7,
     "metadata": {},
     "output_type": "execute_result"
    }
   ],
   "source": [
    "cosine_similarities"
   ]
  },
  {
   "cell_type": "code",
   "execution_count": 8,
   "id": "40ab2448-f238-472f-9642-1d23855f1d36",
   "metadata": {},
   "outputs": [
    {
     "data": {
      "text/plain": [
       "array([[0.78528828, 0.        , 0.        , 0.6191303 , 0.        ],\n",
       "       [0.        , 0.70710678, 0.        , 0.        , 0.70710678],\n",
       "       [0.        , 0.53256952, 0.        , 0.65782931, 0.53256952],\n",
       "       [0.        , 0.36626037, 0.57381765, 0.        , 0.73252075]])"
      ]
     },
     "execution_count": 8,
     "metadata": {},
     "output_type": "execute_result"
    }
   ],
   "source": [
    "tfidf_matrix.toarray()"
   ]
  },
  {
   "cell_type": "code",
   "execution_count": 9,
   "id": "e923ad12-af00-42ea-9f87-3029e6daf536",
   "metadata": {},
   "outputs": [
    {
     "data": {
      "text/plain": [
       "array(['blue', 'bright', 'shining', 'sky', 'sun'], dtype=object)"
      ]
     },
     "execution_count": 9,
     "metadata": {},
     "output_type": "execute_result"
    }
   ],
   "source": [
    "tfidf_vectorizer.get_feature_names_out()"
   ]
  },
  {
   "cell_type": "code",
   "execution_count": 10,
   "id": "e4216220-83e8-439b-9e5a-acbd1a4b9e2a",
   "metadata": {},
   "outputs": [],
   "source": [
    "new_sentence = [\"the sky is shining\"]"
   ]
  },
  {
   "cell_type": "code",
   "execution_count": 11,
   "id": "5c9f026d-20cf-448f-9353-ae13137c64f6",
   "metadata": {},
   "outputs": [],
   "source": [
    "new_sentence_tfidf = tfidf_vectorizer.transform(new_sentence)"
   ]
  },
  {
   "cell_type": "code",
   "execution_count": 12,
   "id": "459c33ae-c5e7-4e24-88a7-9c6542cc100d",
   "metadata": {},
   "outputs": [],
   "source": [
    "cosine_similarities = cosine_similarity(new_sentence_tfidf, tfidf_matrix)"
   ]
  },
  {
   "cell_type": "code",
   "execution_count": 13,
   "id": "60f736d5-6bd6-41b4-ba2e-577ab5b1943d",
   "metadata": {},
   "outputs": [
    {
     "data": {
      "text/plain": [
       "array([[0.38332232, 0.        , 0.40728206, 0.45061227]])"
      ]
     },
     "execution_count": 13,
     "metadata": {},
     "output_type": "execute_result"
    }
   ],
   "source": [
    "cosine_similarities"
   ]
  },
  {
   "cell_type": "code",
   "execution_count": null,
   "id": "c6c79460-1e5e-4463-8b4d-8d9a0c94f3c9",
   "metadata": {},
   "outputs": [],
   "source": []
  }
 ],
 "metadata": {
  "kernelspec": {
   "display_name": "Python 3 (ipykernel)",
   "language": "python",
   "name": "python3"
  },
  "language_info": {
   "codemirror_mode": {
    "name": "ipython",
    "version": 3
   },
   "file_extension": ".py",
   "mimetype": "text/x-python",
   "name": "python",
   "nbconvert_exporter": "python",
   "pygments_lexer": "ipython3",
   "version": "3.10.12"
  }
 },
 "nbformat": 4,
 "nbformat_minor": 5
}
